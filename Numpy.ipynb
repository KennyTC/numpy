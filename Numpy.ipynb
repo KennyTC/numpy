{
  "nbformat": 4,
  "nbformat_minor": 0,
  "metadata": {
    "colab": {
      "name": "Numpy.ipynb",
      "provenance": [],
      "collapsed_sections": [],
      "toc_visible": true,
      "authorship_tag": "ABX9TyMqTKuT+qk6qSbucae2cYKr",
      "include_colab_link": true
    },
    "kernelspec": {
      "name": "python3",
      "display_name": "Python 3"
    },
    "language_info": {
      "name": "python"
    }
  },
  "cells": [
    {
      "cell_type": "markdown",
      "metadata": {
        "id": "view-in-github",
        "colab_type": "text"
      },
      "source": [
        "<a href=\"https://colab.research.google.com/github/KennyTC/numpy/blob/main/Numpy.ipynb\" target=\"_parent\"><img src=\"https://colab.research.google.com/assets/colab-badge.svg\" alt=\"Open In Colab\"/></a>"
      ]
    },
    {
      "cell_type": "markdown",
      "metadata": {
        "id": "rI6xicLaJQi8"
      },
      "source": [
        "To learn numpy effeciently"
      ]
    },
    {
      "cell_type": "code",
      "metadata": {
        "id": "o_MKYQ6sJWjU"
      },
      "source": [
        "import numpy as np\n"
      ],
      "execution_count": 3,
      "outputs": []
    },
    {
      "cell_type": "markdown",
      "metadata": {
        "id": "fOC2aZhIOG2j"
      },
      "source": [
        "Data type\tDescription\n",
        "1. bool_\tBoolean (True or False) stored as a byte\n",
        "2. int_\tDefault integer type (same as C long; normally either int64 or int32)\n",
        "3. intc\tIdentical to C int (normally int32 or int64)\n",
        "2. intp\tInteger used for indexing (same as C ssize_t; normally either int32 or int64)\n",
        "3. int8\tByte (-128 to 127)\n",
        "4. int16\tInteger (-32768 to 32767)\n",
        "5. int32\tInteger (-2147483648 to 2147483647)\n",
        "6. int64\tInteger (-9223372036854775808 to 9223372036854775807)\n",
        "7. uint8\tUnsigned integer (0 to 255)\n",
        "8. uint16\tUnsigned integer (0 to 65535)\n",
        "9. uint32\tUnsigned integer (0 to 4294967295)\n",
        "10. uint64\tUnsigned integer (0 to 18446744073709551615)\n",
        "11. float_\tShorthand for float64.\n",
        "12. float16\tHalf precision float: sign bit, 5 bits exponent, 10 bits mantissa\n",
        "13. float32\tSingle precision float: sign bit, 8 bits exponent, 23 bits mantissa\n",
        "14. float64\tDouble precision float: sign bit, 11 bits exponent, 52 bits mantissa\n",
        "15. complex_\tShorthand for complex128.\n",
        "16. complex64\tComplex number, represented by two 32-bit floats\n",
        "17. complex128\tComplex number, represented by two 64-bit floats"
      ]
    },
    {
      "cell_type": "markdown",
      "metadata": {
        "id": "NhRloiTgONWT"
      },
      "source": [
        "# Create "
      ]
    },
    {
      "cell_type": "code",
      "metadata": {
        "colab": {
          "base_uri": "https://localhost:8080/"
        },
        "id": "UqiX_m9yK6R6",
        "outputId": "7e3c29dc-6cdd-4a5d-e7c6-8446de102068"
      },
      "source": [
        "# Create a 3x3 array of random integers in the interval [0, 10)\n",
        "np.random.randint(0, 10, size=(3, 3))"
      ],
      "execution_count": 13,
      "outputs": [
        {
          "output_type": "execute_result",
          "data": {
            "text/plain": [
              "array([[0, 2, 9],\n",
              "       [2, 6, 3],\n",
              "       [2, 5, 7]])"
            ]
          },
          "metadata": {},
          "execution_count": 13
        }
      ]
    },
    {
      "cell_type": "code",
      "metadata": {
        "colab": {
          "base_uri": "https://localhost:8080/"
        },
        "id": "VQTeh0GvLn0b",
        "outputId": "de5bb263-ff6d-4f4d-88a6-0b6fe9bfb846"
      },
      "source": [
        "# Create a 3x3 array of uniformly distributed\n",
        "# random values between 0 and 1\n",
        "np.random.random((3, 3))"
      ],
      "execution_count": 5,
      "outputs": [
        {
          "output_type": "execute_result",
          "data": {
            "text/plain": [
              "array([[0.34843069, 0.12778805, 0.68332844],\n",
              "       [0.52060017, 0.11624614, 0.57760463],\n",
              "       [0.63491414, 0.82753647, 0.01908932]])"
            ]
          },
          "metadata": {},
          "execution_count": 5
        }
      ]
    },
    {
      "cell_type": "code",
      "metadata": {
        "colab": {
          "base_uri": "https://localhost:8080/"
        },
        "id": "gpVr5zVUL5fs",
        "outputId": "d978a0cb-a55d-424b-bbc8-c1919c4afac7"
      },
      "source": [
        "# Create a 3x3 array of normally distributed random values\n",
        "# with mean 0 and standard deviation 1\n",
        "np.random.normal(2, 100, (3, 3))"
      ],
      "execution_count": 9,
      "outputs": [
        {
          "output_type": "execute_result",
          "data": {
            "text/plain": [
              "array([[  21.83594095,  -17.09685113,  -60.48004432],\n",
              "       [-134.2452124 ,   21.62396117,   -7.52001065],\n",
              "       [ -11.92666223,   22.89443057,   57.17462532]])"
            ]
          },
          "metadata": {},
          "execution_count": 9
        }
      ]
    },
    {
      "cell_type": "code",
      "metadata": {
        "colab": {
          "base_uri": "https://localhost:8080/"
        },
        "id": "qiDfqCrvOiaM",
        "outputId": "062a604c-f411-47c8-8dd1-a2e78ea5d401"
      },
      "source": [
        "# check size, itemsize and nbyte\n",
        "a = np.random.randint(10, size=(2,3,4))\n",
        "print(a.dtype, a.itemsize, a.size)\n",
        "assert a.nbytes == a.itemsize * a.size"
      ],
      "execution_count": 18,
      "outputs": [
        {
          "output_type": "stream",
          "name": "stdout",
          "text": [
            "int64 8 24\n"
          ]
        }
      ]
    },
    {
      "cell_type": "code",
      "metadata": {
        "id": "avyuIW8ZQMag"
      },
      "source": [
        ""
      ],
      "execution_count": null,
      "outputs": []
    },
    {
      "cell_type": "markdown",
      "metadata": {
        "id": "oqfRqP9GSGW6"
      },
      "source": [
        "# Subarrays as no-copy views"
      ]
    },
    {
      "cell_type": "code",
      "metadata": {
        "colab": {
          "base_uri": "https://localhost:8080/"
        },
        "id": "Q1wTn_joSHpN",
        "outputId": "1cc58c9c-da06-4a99-9511-a8e989e97708"
      },
      "source": [
        "# a subset in numpy array is a view, ie. any change to a view will effect the origin, while List in python is a copy\n",
        "a = np.random.randint(10, size=(3,3))\n",
        "b = a[1:, 1:]\n",
        "print(a)\n",
        "print(b)\n",
        "b[0,0]=7\n",
        "print(a)\n",
        "# if we want to copy, not a no-copy view:\n",
        "c = a.copy()"
      ],
      "execution_count": 24,
      "outputs": [
        {
          "output_type": "stream",
          "name": "stdout",
          "text": [
            "[[2 1 1]\n",
            " [7 3 4]\n",
            " [1 5 0]]\n",
            "[[3 4]\n",
            " [5 0]]\n",
            "[[2 1 1]\n",
            " [7 7 4]\n",
            " [1 5 0]]\n"
          ]
        }
      ]
    },
    {
      "cell_type": "code",
      "metadata": {
        "id": "ZucPbbKjSXOQ"
      },
      "source": [
        ""
      ],
      "execution_count": null,
      "outputs": []
    },
    {
      "cell_type": "markdown",
      "metadata": {
        "id": "oDy_NwZAT4XS"
      },
      "source": [
        "# Reshape"
      ]
    },
    {
      "cell_type": "code",
      "metadata": {
        "colab": {
          "base_uri": "https://localhost:8080/"
        },
        "id": "HQ0gfEooT6-u",
        "outputId": "a1eecf79-3ef4-4935-ab91-d48cf9c91928"
      },
      "source": [
        "x = np.array([1, 2, 3])\n",
        "\n",
        "# row vector via reshape\n",
        "print(x.reshape((1, 3)))\n",
        "print(x[np.newaxis,:])\n"
      ],
      "execution_count": 25,
      "outputs": [
        {
          "output_type": "stream",
          "name": "stdout",
          "text": [
            "[[1 2 3]]\n",
            "[[1 2 3]]\n"
          ]
        }
      ]
    },
    {
      "cell_type": "code",
      "metadata": {
        "colab": {
          "base_uri": "https://localhost:8080/"
        },
        "id": "RHqGkhpDUAZ8",
        "outputId": "f8aa1b25-790a-4b20-e4f1-82251d6a864d"
      },
      "source": [
        "x = np.array([1, 2, 3])\n",
        "grid = np.array([[9, 8, 7],\n",
        "                 [6, 5, 4]])\n",
        "\n",
        "# vertically stack the arrays\n",
        "s = np.vstack([x, grid])\n",
        "print(s)"
      ],
      "execution_count": 27,
      "outputs": [
        {
          "output_type": "stream",
          "name": "stdout",
          "text": [
            "[[1 2 3]\n",
            " [9 8 7]\n",
            " [6 5 4]]\n"
          ]
        }
      ]
    },
    {
      "cell_type": "code",
      "metadata": {
        "colab": {
          "base_uri": "https://localhost:8080/"
        },
        "id": "VmgnhlpRUuL6",
        "outputId": "7f217b05-5c23-468e-b8aa-423eb522753a"
      },
      "source": [
        "np.vsplit(s, [1])"
      ],
      "execution_count": 29,
      "outputs": [
        {
          "output_type": "execute_result",
          "data": {
            "text/plain": [
              "[array([[1, 2, 3]]), array([[9, 8, 7],\n",
              "        [6, 5, 4]])]"
            ]
          },
          "metadata": {},
          "execution_count": 29
        }
      ]
    },
    {
      "cell_type": "code",
      "metadata": {
        "id": "BVy7Lig9U2ky"
      },
      "source": [
        ""
      ],
      "execution_count": null,
      "outputs": []
    }
  ]
}